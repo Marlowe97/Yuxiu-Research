{
 "cells": [
  {
   "cell_type": "code",
   "execution_count": 1,
   "metadata": {},
   "outputs": [
    {
     "name": "stderr",
     "output_type": "stream",
     "text": [
      "C:\\Users\\chong\\Anaconda3\\lib\\site-packages\\statsmodels\\compat\\pandas.py:56: FutureWarning: The pandas.core.datetools module is deprecated and will be removed in a future version. Please use the pandas.tseries module instead.\n",
      "  from pandas.core import datetools\n"
     ]
    }
   ],
   "source": [
    "%matplotlib inline\n",
    "\n",
    "import pandas as pd\n",
    "import numpy as np\n",
    "from scipy import stats\n",
    "import matplotlib.pyplot as plt\n",
    "pd.options.mode.chained_assignment = None\n",
    "import statsmodels.api as sm\n",
    "from patsy import dmatrices"
   ]
  },
  {
   "cell_type": "code",
   "execution_count": 2,
   "metadata": {
    "collapsed": true
   },
   "outputs": [],
   "source": [
    "com1 = pd.read_csv('companies_cleaned.csv')"
   ]
  },
  {
   "cell_type": "code",
   "execution_count": 3,
   "metadata": {
    "collapsed": true
   },
   "outputs": [],
   "source": [
    "HFA = pd.read_csv('HFA 1994-2015.csv')\n",
    "HFA = HFA.fillna(value = 0)\n",
    "HFA['Gvkey'] = HFA['Gvkey'].apply(lambda x: str(x).replace(' ',''))\n",
    "HFA['NCUSIP'] = HFA['NCUSIP'].apply(lambda x: str(x).replace(' ',''))\n",
    "HFA.NCUSIP = HFA['NCUSIP'].apply(lambda x: x.zfill(9))\n",
    "HFA['Gvkey'] = HFA['Gvkey'].astype(int)\n",
    "def dat(x):\n",
    "    if x['EventDate'] == 0:\n",
    "        if x['Date13D'] == 0:\n",
    "            return x['DateCross5pct']\n",
    "        else:\n",
    "            return x['Date13D']\n",
    "    else:\n",
    "        return x['EventDate']\n",
    "    \n",
    "#calculate the year of activism\n",
    "HFA['date'] = HFA[['EventDate','Date13D','DateCross5pct']].apply(dat,axis = 1)\n",
    "HFA['date'] = pd.to_datetime(HFA['date'].astype(int).astype(str),\\\n",
    "                             errors = 'coerce')\n",
    "\n",
    "#define a variable 'year' according to variable 'date'\n",
    "HFA['year'] = [i.year for i in HFA.date]\n",
    "HFA = HFA.dropna(subset = ['year'])\n",
    "HFA['year-1'] = HFA.year - 1"
   ]
  },
  {
   "cell_type": "code",
   "execution_count": 4,
   "metadata": {},
   "outputs": [
    {
     "data": {
      "text/plain": [
       "(214640, 43)"
      ]
     },
     "execution_count": 4,
     "metadata": {},
     "output_type": "execute_result"
    }
   ],
   "source": [
    "com1.shape"
   ]
  },
  {
   "cell_type": "code",
   "execution_count": 5,
   "metadata": {
    "collapsed": true
   },
   "outputs": [],
   "source": [
    "#calculate the skewness\n",
    "cov = ['analyst','divyld','growth3yr','herfindahl','inst',\\\n",
    " 'levb','mv','q','rnd46','roa']\n",
    "skewness = stats.skew(com1[cov].dropna(),axis = 0)"
   ]
  },
  {
   "cell_type": "code",
   "execution_count": 6,
   "metadata": {},
   "outputs": [
    {
     "name": "stdout",
     "output_type": "stream",
     "text": [
      "['analyst', 'divyld', 'growth3yr', 'inst', 'levb', 'mv', 'q', 'rnd46']\n"
     ]
    },
    {
     "data": {
      "text/plain": [
       "SkewtestResult(statistic=array([ 130.77269161,  190.84413076,  189.7413617 ,   23.46541795,\n",
       "        111.01601143,  205.39319992,  353.6276942 ,  234.36298934]), pvalue=array([  0.00000000e+000,   0.00000000e+000,   0.00000000e+000,\n",
       "         9.20120568e-122,   0.00000000e+000,   0.00000000e+000,\n",
       "         0.00000000e+000,   0.00000000e+000]))"
      ]
     },
     "execution_count": 6,
     "metadata": {},
     "output_type": "execute_result"
    }
   ],
   "source": [
    "cov_rs = [cov[i] for i in range(len(cov)) if skewness[i] > 0]\n",
    "print(cov_rs)\n",
    "stats.skewtest(com1[cov_rs].dropna(),axis = 0)"
   ]
  },
  {
   "cell_type": "code",
   "execution_count": 7,
   "metadata": {},
   "outputs": [
    {
     "data": {
      "text/plain": [
       "(185964, 13)"
      ]
     },
     "execution_count": 7,
     "metadata": {},
     "output_type": "execute_result"
    }
   ],
   "source": [
    "columns = cov + ['yeara','gvkey','permno']\n",
    "sam = com1[columns]\n",
    "#cut the sample from 1993 to 2015\n",
    "flag3 = sam.yeara > 1992\n",
    "flag4 = sam.yeara <2015\n",
    "sam = sam[flag3 & flag4]\n",
    "sam.shape"
   ]
  },
  {
   "cell_type": "code",
   "execution_count": 38,
   "metadata": {
    "collapsed": true
   },
   "outputs": [],
   "source": [
    "sam['analyst'] = sam['analyst'].fillna(value = 0)\n",
    "sam['herfindahl'] = sam['herfindahl'].fillna(value = 1)\n",
    "sam['inst'] = sam['inst'].fillna(value = 0)\n",
    "sam['divyld'] = sam['divyld'].fillna(value = 0)\n",
    "sam1 = sam.copy()"
   ]
  },
  {
   "cell_type": "code",
   "execution_count": 11,
   "metadata": {},
   "outputs": [
    {
     "data": {
      "text/plain": [
       "0.43576713772558129"
      ]
     },
     "execution_count": 11,
     "metadata": {},
     "output_type": "execute_result"
    }
   ],
   "source": [
    "pd.notnull(sam.rnd46).sum()/185964"
   ]
  },
  {
   "cell_type": "code",
   "execution_count": 39,
   "metadata": {
    "collapsed": true
   },
   "outputs": [],
   "source": [
    "sam['rnd46'] = sam['rnd46'].fillna(value = 0)\n",
    "sam[sam['rnd46']<0].rnd46 = 0\n",
    "sam = sam.dropna(subset = cov, axis = 0)"
   ]
  },
  {
   "cell_type": "code",
   "execution_count": 40,
   "metadata": {},
   "outputs": [
    {
     "data": {
      "text/plain": [
       "(153018, 13)"
      ]
     },
     "execution_count": 40,
     "metadata": {},
     "output_type": "execute_result"
    }
   ],
   "source": [
    "sam.shape"
   ]
  },
  {
   "cell_type": "code",
   "execution_count": 43,
   "metadata": {
    "collapsed": true
   },
   "outputs": [],
   "source": [
    "sam[['q_log','mv_log']] = sam[['q','mv']].apply(np.log)\n",
    "sam[['analyst_log','rnd46_log']] = \\\n",
    "sam[['analyst','rnd46']].apply(lambda x: np.log(1+x))"
   ]
  },
  {
   "cell_type": "code",
   "execution_count": null,
   "metadata": {
    "collapsed": true
   },
   "outputs": [],
   "source": []
  },
  {
   "cell_type": "code",
   "execution_count": 44,
   "metadata": {
    "collapsed": true
   },
   "outputs": [],
   "source": [
    "# auxiliary function\n",
    "def au(x):\n",
    "    m_y = HFA['year-1'] == x['yeara']\n",
    "    m_g = HFA.Permno == x['permno']\n",
    "    if len(HFA[m_y & m_g]) > 0:\n",
    "        return 1\n",
    "    else:\n",
    "        return 0"
   ]
  },
  {
   "cell_type": "code",
   "execution_count": 13,
   "metadata": {
    "collapsed": true
   },
   "outputs": [],
   "source": [
    "sam['y'] = sam[['yeara','gvkey','permno']].apply(au,axis = 1)"
   ]
  },
  {
   "cell_type": "code",
   "execution_count": 14,
   "metadata": {
    "collapsed": true
   },
   "outputs": [],
   "source": [
    "y,X = dmatrices('y ~ analyst_log + divyld + growth3yr + \\\n",
    "herfindahl + inst + levb + mv_log + q_log + rnd46_log + roa',\\\n",
    "                data = sam,return_type = 'dataframe')"
   ]
  },
  {
   "cell_type": "code",
   "execution_count": 20,
   "metadata": {},
   "outputs": [
    {
     "name": "stdout",
     "output_type": "stream",
     "text": [
      "Optimization terminated successfully.\n",
      "         Current function value: 0.094691\n",
      "         Iterations 9\n"
     ]
    },
    {
     "data": {
      "text/html": [
       "<table class=\"simpletable\">\n",
       "<caption>Probit Regression Results</caption>\n",
       "<tr>\n",
       "  <th>Dep. Variable:</th>         <td>y</td>        <th>  No. Observations:  </th>   <td>153007</td>  \n",
       "</tr>\n",
       "<tr>\n",
       "  <th>Model:</th>              <td>Probit</td>      <th>  Df Residuals:      </th>   <td>152995</td>  \n",
       "</tr>\n",
       "<tr>\n",
       "  <th>Method:</th>               <td>MLE</td>       <th>  Df Model:          </th>   <td>    11</td>  \n",
       "</tr>\n",
       "<tr>\n",
       "  <th>Date:</th>          <td>Tue, 10 Oct 2017</td> <th>  Pseudo R-squ.:     </th>   <td>0.04280</td> \n",
       "</tr>\n",
       "<tr>\n",
       "  <th>Time:</th>              <td>14:18:50</td>     <th>  Log-Likelihood:    </th>  <td> -14488.</td> \n",
       "</tr>\n",
       "<tr>\n",
       "  <th>converged:</th>           <td>True</td>       <th>  LL-Null:           </th>  <td> -15136.</td> \n",
       "</tr>\n",
       "<tr>\n",
       "  <th> </th>                      <td> </td>        <th>  LLR p-value:       </th> <td>3.990e-271</td>\n",
       "</tr>\n",
       "</table>\n",
       "<table class=\"simpletable\">\n",
       "<tr>\n",
       "       <td></td>          <th>coef</th>     <th>std err</th>      <th>z</th>      <th>P>|z|</th>  <th>[0.025</th>    <th>0.975]</th>  \n",
       "</tr>\n",
       "<tr>\n",
       "  <th>Intercept</th>   <td>   -2.0801</td> <td>    0.038</td> <td>  -55.095</td> <td> 0.000</td> <td>   -2.154</td> <td>   -2.006</td>\n",
       "</tr>\n",
       "<tr>\n",
       "  <th>analyst_log</th> <td>   -0.1693</td> <td>    0.012</td> <td>  -14.370</td> <td> 0.000</td> <td>   -0.192</td> <td>   -0.146</td>\n",
       "</tr>\n",
       "<tr>\n",
       "  <th>cash1_log</th>   <td>    0.0114</td> <td>    0.006</td> <td>    1.805</td> <td> 0.071</td> <td>   -0.001</td> <td>    0.024</td>\n",
       "</tr>\n",
       "<tr>\n",
       "  <th>divyld</th>      <td>   -0.0258</td> <td>    0.140</td> <td>   -0.184</td> <td> 0.854</td> <td>   -0.300</td> <td>    0.249</td>\n",
       "</tr>\n",
       "<tr>\n",
       "  <th>growth3yr</th>   <td>   -0.0325</td> <td>    0.015</td> <td>   -2.174</td> <td> 0.030</td> <td>   -0.062</td> <td>   -0.003</td>\n",
       "</tr>\n",
       "<tr>\n",
       "  <th>herfindahl</th>  <td>   -0.0667</td> <td>    0.030</td> <td>   -2.190</td> <td> 0.028</td> <td>   -0.126</td> <td>   -0.007</td>\n",
       "</tr>\n",
       "<tr>\n",
       "  <th>inst</th>        <td>    1.0193</td> <td>    0.036</td> <td>   28.047</td> <td> 0.000</td> <td>    0.948</td> <td>    1.090</td>\n",
       "</tr>\n",
       "<tr>\n",
       "  <th>levb</th>        <td>   -0.0318</td> <td>    0.031</td> <td>   -1.029</td> <td> 0.304</td> <td>   -0.092</td> <td>    0.029</td>\n",
       "</tr>\n",
       "<tr>\n",
       "  <th>mv_log</th>      <td>   -0.0047</td> <td>    0.006</td> <td>   -0.722</td> <td> 0.470</td> <td>   -0.017</td> <td>    0.008</td>\n",
       "</tr>\n",
       "<tr>\n",
       "  <th>q_log</th>       <td>   -0.1401</td> <td>    0.012</td> <td>  -11.508</td> <td> 0.000</td> <td>   -0.164</td> <td>   -0.116</td>\n",
       "</tr>\n",
       "<tr>\n",
       "  <th>rnd46_log</th>   <td>    0.0306</td> <td>    0.005</td> <td>    6.124</td> <td> 0.000</td> <td>    0.021</td> <td>    0.040</td>\n",
       "</tr>\n",
       "<tr>\n",
       "  <th>roa</th>         <td>    0.0123</td> <td>    0.019</td> <td>    0.654</td> <td> 0.513</td> <td>   -0.025</td> <td>    0.049</td>\n",
       "</tr>\n",
       "</table>"
      ],
      "text/plain": [
       "<class 'statsmodels.iolib.summary.Summary'>\n",
       "\"\"\"\n",
       "                          Probit Regression Results                           \n",
       "==============================================================================\n",
       "Dep. Variable:                      y   No. Observations:               153007\n",
       "Model:                         Probit   Df Residuals:                   152995\n",
       "Method:                           MLE   Df Model:                           11\n",
       "Date:                Tue, 10 Oct 2017   Pseudo R-squ.:                 0.04280\n",
       "Time:                        14:18:50   Log-Likelihood:                -14488.\n",
       "converged:                       True   LL-Null:                       -15136.\n",
       "                                        LLR p-value:                3.990e-271\n",
       "===============================================================================\n",
       "                  coef    std err          z      P>|z|      [0.025      0.975]\n",
       "-------------------------------------------------------------------------------\n",
       "Intercept      -2.0801      0.038    -55.095      0.000      -2.154      -2.006\n",
       "analyst_log    -0.1693      0.012    -14.370      0.000      -0.192      -0.146\n",
       "cash1_log       0.0114      0.006      1.805      0.071      -0.001       0.024\n",
       "divyld         -0.0258      0.140     -0.184      0.854      -0.300       0.249\n",
       "growth3yr      -0.0325      0.015     -2.174      0.030      -0.062      -0.003\n",
       "herfindahl     -0.0667      0.030     -2.190      0.028      -0.126      -0.007\n",
       "inst            1.0193      0.036     28.047      0.000       0.948       1.090\n",
       "levb           -0.0318      0.031     -1.029      0.304      -0.092       0.029\n",
       "mv_log         -0.0047      0.006     -0.722      0.470      -0.017       0.008\n",
       "q_log          -0.1401      0.012    -11.508      0.000      -0.164      -0.116\n",
       "rnd46_log       0.0306      0.005      6.124      0.000       0.021       0.040\n",
       "roa             0.0123      0.019      0.654      0.513      -0.025       0.049\n",
       "===============================================================================\n",
       "\"\"\""
      ]
     },
     "execution_count": 20,
     "metadata": {},
     "output_type": "execute_result"
    }
   ],
   "source": [
    "probit_model = sm.Probit(y,X)\n",
    "probit_res = probit_model.fit()\n",
    "probit_res.summary()"
   ]
  },
  {
   "cell_type": "code",
   "execution_count": 45,
   "metadata": {},
   "outputs": [
    {
     "data": {
      "text/plain": [
       "104927"
      ]
     },
     "execution_count": 45,
     "metadata": {},
     "output_type": "execute_result"
    }
   ],
   "source": [
    "pd.isnull(sam1['rnd46']).sum()"
   ]
  },
  {
   "cell_type": "code",
   "execution_count": 46,
   "metadata": {
    "scrolled": true
   },
   "outputs": [
    {
     "data": {
      "text/plain": [
       "(214640, 43)"
      ]
     },
     "execution_count": 46,
     "metadata": {},
     "output_type": "execute_result"
    }
   ],
   "source": [
    "com1.shape"
   ]
  },
  {
   "cell_type": "code",
   "execution_count": 102,
   "metadata": {
    "collapsed": true
   },
   "outputs": [],
   "source": [
    "df1 = pd.pivot_table(com1,index=\"gvkey\",values='rnd46',aggfunc=lambda x:pd.notnull(x).sum())\n",
    "df2 = df1[df1.rnd46>0].index"
   ]
  },
  {
   "cell_type": "code",
   "execution_count": 103,
   "metadata": {},
   "outputs": [
    {
     "data": {
      "text/plain": [
       "(106762, 43)"
      ]
     },
     "execution_count": 103,
     "metadata": {},
     "output_type": "execute_result"
    }
   ],
   "source": [
    "df3 = com1[com1['gvkey'].isin(df2) | pd.isnull(com1['gvkey'])]\n",
    "df3.shape"
   ]
  },
  {
   "cell_type": "code",
   "execution_count": 104,
   "metadata": {},
   "outputs": [
    {
     "data": {
      "text/plain": [
       "(94071, 43)"
      ]
     },
     "execution_count": 104,
     "metadata": {},
     "output_type": "execute_result"
    }
   ],
   "source": [
    "df3.rnd46 = df3.rnd46.fillna(value=0)\n",
    "df3['analyst'] = df3['analyst'].fillna(value = 0)\n",
    "df3['herfindahl'] = df3['herfindahl'].fillna(value = 1)\n",
    "df3['inst'] = df3['inst'].fillna(value = 0)\n",
    "df3['divyld'] = df3['divyld'].fillna(value = 0)\n",
    "flag5 = df3.yeara > 1992\n",
    "flag6 = df3.yeara <2015\n",
    "df4 = df3[flag5 & flag6]\n",
    "df4.shape"
   ]
  },
  {
   "cell_type": "code",
   "execution_count": 105,
   "metadata": {},
   "outputs": [
    {
     "data": {
      "text/plain": [
       "(94071, 43)"
      ]
     },
     "execution_count": 105,
     "metadata": {},
     "output_type": "execute_result"
    }
   ],
   "source": [
    "df4.dropna(subset=['gvkey']).shape"
   ]
  },
  {
   "cell_type": "code",
   "execution_count": 106,
   "metadata": {},
   "outputs": [
    {
     "data": {
      "text/plain": [
       "Int64Index([  1013,   1017,   1021,   1034,   1036,   1037,   1043,   1050,\n",
       "              1054,   1055,\n",
       "            ...\n",
       "            308992, 311524, 312079, 314866, 315318, 315629, 315639, 316056,\n",
       "            317427, 318815],\n",
       "           dtype='int64', name='gvkey', length=10552)"
      ]
     },
     "execution_count": 106,
     "metadata": {},
     "output_type": "execute_result"
    }
   ],
   "source": [
    "df2"
   ]
  },
  {
   "cell_type": "code",
   "execution_count": null,
   "metadata": {
    "collapsed": true
   },
   "outputs": [],
   "source": []
  },
  {
   "cell_type": "code",
   "execution_count": 107,
   "metadata": {
    "collapsed": true
   },
   "outputs": [],
   "source": [
    "# pd.isnull(sam.permno)"
   ]
  },
  {
   "cell_type": "code",
   "execution_count": null,
   "metadata": {
    "collapsed": true
   },
   "outputs": [],
   "source": []
  },
  {
   "cell_type": "code",
   "execution_count": 108,
   "metadata": {
    "collapsed": true
   },
   "outputs": [],
   "source": [
    "# for i in sam1['permno'].dropna().values:\n",
    "#     if pd.notnull(sam1[sam1['permno'] == i]['rnd46']).sum() >= 1:\n",
    "#         sam1[sam1['permno'] == i].rnd46 = sam1[sam1['permno'] == i].rnd46.fillna(value = 0)"
   ]
  },
  {
   "cell_type": "code",
   "execution_count": 109,
   "metadata": {
    "collapsed": true
   },
   "outputs": [],
   "source": [
    "df4[['mv_log']] = df4[['mv']].apply(np.log)\n",
    "df4[['analyst_log','rnd46_log']] = \\\n",
    "df4[['analyst','rnd46']].apply(lambda x: np.log(1+x))"
   ]
  },
  {
   "cell_type": "code",
   "execution_count": 110,
   "metadata": {
    "collapsed": true
   },
   "outputs": [],
   "source": [
    "df4['y'] = df4[['yeara','gvkey','permno']].apply(au,axis = 1)"
   ]
  },
  {
   "cell_type": "code",
   "execution_count": 112,
   "metadata": {},
   "outputs": [
    {
     "name": "stdout",
     "output_type": "stream",
     "text": [
      "Optimization terminated successfully.\n",
      "         Current function value: 0.098983\n",
      "         Iterations 10\n"
     ]
    },
    {
     "data": {
      "text/html": [
       "<table class=\"simpletable\">\n",
       "<caption>Probit Regression Results</caption>\n",
       "<tr>\n",
       "  <th>Dep. Variable:</th>         <td>y</td>        <th>  No. Observations:  </th>   <td> 87611</td>  \n",
       "</tr>\n",
       "<tr>\n",
       "  <th>Model:</th>              <td>Probit</td>      <th>  Df Residuals:      </th>   <td> 87600</td>  \n",
       "</tr>\n",
       "<tr>\n",
       "  <th>Method:</th>               <td>MLE</td>       <th>  Df Model:          </th>   <td>    10</td>  \n",
       "</tr>\n",
       "<tr>\n",
       "  <th>Date:</th>          <td>Wed, 11 Oct 2017</td> <th>  Pseudo R-squ.:     </th>   <td>0.04594</td> \n",
       "</tr>\n",
       "<tr>\n",
       "  <th>Time:</th>              <td>20:58:18</td>     <th>  Log-Likelihood:    </th>  <td> -8672.0</td> \n",
       "</tr>\n",
       "<tr>\n",
       "  <th>converged:</th>           <td>True</td>       <th>  LL-Null:           </th>  <td> -9089.6</td> \n",
       "</tr>\n",
       "<tr>\n",
       "  <th> </th>                      <td> </td>        <th>  LLR p-value:       </th> <td>5.681e-173</td>\n",
       "</tr>\n",
       "</table>\n",
       "<table class=\"simpletable\">\n",
       "<tr>\n",
       "       <td></td>          <th>coef</th>     <th>std err</th>      <th>z</th>      <th>P>|z|</th>  <th>[0.025</th>    <th>0.975]</th>  \n",
       "</tr>\n",
       "<tr>\n",
       "  <th>Intercept</th>   <td>   -2.0325</td> <td>    0.048</td> <td>  -41.961</td> <td> 0.000</td> <td>   -2.127</td> <td>   -1.938</td>\n",
       "</tr>\n",
       "<tr>\n",
       "  <th>analyst_log</th> <td>   -0.1530</td> <td>    0.016</td> <td>   -9.658</td> <td> 0.000</td> <td>   -0.184</td> <td>   -0.122</td>\n",
       "</tr>\n",
       "<tr>\n",
       "  <th>divyld</th>      <td>    0.0925</td> <td>    0.188</td> <td>    0.491</td> <td> 0.624</td> <td>   -0.277</td> <td>    0.462</td>\n",
       "</tr>\n",
       "<tr>\n",
       "  <th>growth3yr</th>   <td>   -0.0360</td> <td>    0.018</td> <td>   -1.946</td> <td> 0.052</td> <td>   -0.072</td> <td>    0.000</td>\n",
       "</tr>\n",
       "<tr>\n",
       "  <th>herfindahl</th>  <td>   -0.0633</td> <td>    0.039</td> <td>   -1.630</td> <td> 0.103</td> <td>   -0.139</td> <td>    0.013</td>\n",
       "</tr>\n",
       "<tr>\n",
       "  <th>inst</th>        <td>    0.9854</td> <td>    0.048</td> <td>   20.514</td> <td> 0.000</td> <td>    0.891</td> <td>    1.080</td>\n",
       "</tr>\n",
       "<tr>\n",
       "  <th>levb</th>        <td>   -0.1574</td> <td>    0.041</td> <td>   -3.879</td> <td> 0.000</td> <td>   -0.237</td> <td>   -0.078</td>\n",
       "</tr>\n",
       "<tr>\n",
       "  <th>mv_log</th>      <td>    0.0040</td> <td>    0.006</td> <td>    0.616</td> <td> 0.538</td> <td>   -0.009</td> <td>    0.017</td>\n",
       "</tr>\n",
       "<tr>\n",
       "  <th>q</th>           <td>   -0.0308</td> <td>    0.004</td> <td>   -8.460</td> <td> 0.000</td> <td>   -0.038</td> <td>   -0.024</td>\n",
       "</tr>\n",
       "<tr>\n",
       "  <th>rnd46_log</th>   <td>    0.0144</td> <td>    0.007</td> <td>    2.196</td> <td> 0.028</td> <td>    0.002</td> <td>    0.027</td>\n",
       "</tr>\n",
       "<tr>\n",
       "  <th>roa</th>         <td>   -0.0594</td> <td>    0.022</td> <td>   -2.642</td> <td> 0.008</td> <td>   -0.103</td> <td>   -0.015</td>\n",
       "</tr>\n",
       "</table>"
      ],
      "text/plain": [
       "<class 'statsmodels.iolib.summary.Summary'>\n",
       "\"\"\"\n",
       "                          Probit Regression Results                           \n",
       "==============================================================================\n",
       "Dep. Variable:                      y   No. Observations:                87611\n",
       "Model:                         Probit   Df Residuals:                    87600\n",
       "Method:                           MLE   Df Model:                           10\n",
       "Date:                Wed, 11 Oct 2017   Pseudo R-squ.:                 0.04594\n",
       "Time:                        20:58:18   Log-Likelihood:                -8672.0\n",
       "converged:                       True   LL-Null:                       -9089.6\n",
       "                                        LLR p-value:                5.681e-173\n",
       "===============================================================================\n",
       "                  coef    std err          z      P>|z|      [0.025      0.975]\n",
       "-------------------------------------------------------------------------------\n",
       "Intercept      -2.0325      0.048    -41.961      0.000      -2.127      -1.938\n",
       "analyst_log    -0.1530      0.016     -9.658      0.000      -0.184      -0.122\n",
       "divyld          0.0925      0.188      0.491      0.624      -0.277       0.462\n",
       "growth3yr      -0.0360      0.018     -1.946      0.052      -0.072       0.000\n",
       "herfindahl     -0.0633      0.039     -1.630      0.103      -0.139       0.013\n",
       "inst            0.9854      0.048     20.514      0.000       0.891       1.080\n",
       "levb           -0.1574      0.041     -3.879      0.000      -0.237      -0.078\n",
       "mv_log          0.0040      0.006      0.616      0.538      -0.009       0.017\n",
       "q              -0.0308      0.004     -8.460      0.000      -0.038      -0.024\n",
       "rnd46_log       0.0144      0.007      2.196      0.028       0.002       0.027\n",
       "roa            -0.0594      0.022     -2.642      0.008      -0.103      -0.015\n",
       "===============================================================================\n",
       "\"\"\""
      ]
     },
     "execution_count": 112,
     "metadata": {},
     "output_type": "execute_result"
    }
   ],
   "source": [
    "y,X = dmatrices('y ~ analyst_log + divyld + growth3yr + \\\n",
    "herfindahl + inst + levb + mv_log + q + rnd46_log + roa',\\\n",
    "                data = df4,return_type = 'dataframe')\n",
    "probit_model = sm.Probit(y,X)\n",
    "probit_res = probit_model.fit()\n",
    "probit_res.summary()"
   ]
  },
  {
   "cell_type": "code",
   "execution_count": null,
   "metadata": {
    "collapsed": true
   },
   "outputs": [],
   "source": []
  },
  {
   "cell_type": "code",
   "execution_count": null,
   "metadata": {
    "collapsed": true
   },
   "outputs": [],
   "source": []
  },
  {
   "cell_type": "code",
   "execution_count": null,
   "metadata": {
    "collapsed": true
   },
   "outputs": [],
   "source": []
  },
  {
   "cell_type": "code",
   "execution_count": null,
   "metadata": {
    "collapsed": true
   },
   "outputs": [],
   "source": []
  },
  {
   "cell_type": "code",
   "execution_count": null,
   "metadata": {
    "collapsed": true
   },
   "outputs": [],
   "source": []
  }
 ],
 "metadata": {
  "kernelspec": {
   "display_name": "Python 3",
   "language": "python",
   "name": "python3"
  },
  "language_info": {
   "codemirror_mode": {
    "name": "ipython",
    "version": 3
   },
   "file_extension": ".py",
   "mimetype": "text/x-python",
   "name": "python",
   "nbconvert_exporter": "python",
   "pygments_lexer": "ipython3",
   "version": "3.6.3"
  }
 },
 "nbformat": 4,
 "nbformat_minor": 2
}
